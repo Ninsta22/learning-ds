{
 "cells": [
  {
   "cell_type": "markdown",
   "metadata": {},
   "source": [
    "# Coding Your Own Linear Regression Model\n",
    "\n",
    "One task that you will almost certainly be required to do other data science courses (especially if you are a MIDS student) is to write up some of your statistical / machine learning models from scratch. This can be a very valuable exercise, as it ensures that you understand what is actually going on behind the scenes of the models you use ever day, and that you don't just think of them as \"black boxes\". \n",
    "\n",
    "To get a little practice doing this, today you will be coding up your own linear regression model! \n",
    "\n",
    "(If you are using this site but aren't actually in this class, you are welcome to skip this exercise if you'd like -- this is more about practicing Python in anticipation of the requirements of other courses than developing your applied data science skills.) \n",
    "\n",
    "There are, broadly speaking, two approaches you can take to coding up your own model: \n",
    "\n",
    "1. you can write the model by defining a new function, or \n",
    "2. you can write the model by defining a new class with associated methods (making a model that works the way a model works in `scikit-learn`). \n",
    "\n",
    "Whether you do 1 or 2 is very much a matter of choice and style. Approach one, for example, is more consistent with what is called a *functional* style of programming, while approach two is more consistent with an *object-oriented* style of programming. Python can readily support both approaches, so either would work fine. \n",
    "\n",
    "In these exercises, however, I will ask you to use approach number 2 as this *tends* to be the more difficult approach, and so practicing approach 2 will be extra useful in preparing you for other classes (HA! Pun...). In particular, our goal is to implement a linear regression model that has the same \"initialize-fit-predict-score\" API (application programming interface -- a fancy name for the methods a class supports) as `scikit-learn` models. That means your model should be able to do all of the following:\n",
    "\n",
    "1. **Initialize** a new model. \n",
    "2. **Fit** a linear model when given a numpy vector (`y`) and a numpy matrix (`X`) with the syntax `my_model.fit(X, y)`. \n",
    "3. **Predict** values when given a new `numpy` matrix (`X_test`) with the syntax `my_model.predict(X_test)`. \n",
    "4. Return the **model coefficients** through the property `my_model.coefficients` (not quite what is used in `sklearn`, but let's use that interface). \n",
    "\n",
    "Also, bear in mind that throughout these exercises, we'll be working in `numpy` instead of `pandas`, just as we do in `scikit-learn`. So assume that before using your model, your user has already converted their data from `pandas` into `numpy` arrays. "
   ]
  },
  {
   "cell_type": "markdown",
   "metadata": {},
   "source": [
    "**(1)** Define a new Class called `MyLinearModel` with methods for `__init__`, `fit`, `predict`, and an attribute for `coefficients`. For now, we don't need any initialization *arguments*, just an `__init__` function. \n",
    "\n",
    "As you get your code outline going, start by just having each method `pass`:\n",
    "\n",
    "```python\n",
    "def my_method(self):\n",
    "    pass\n",
    "```\n",
    "\n",
    "This will allow your methods to run without errors (they just don't do anything). Then we can double back to each method to get them working one by one."
   ]
  },
  {
   "cell_type": "code",
   "execution_count": 1,
   "metadata": {},
   "outputs": [],
   "source": [
    "class MyLinearModel:\n",
    "    def __init__(self):\n",
    "        self.coefficients = None\n",
    "        pass\n",
    "\n",
    "    def fit(self, X, y):\n",
    "        pass\n",
    "\n",
    "    def predict(self, X):\n",
    "        pass"
   ]
  },
  {
   "cell_type": "markdown",
   "metadata": {},
   "source": [
    "**(2)** Now define your `fit` method. This is the method that should actually run your linear regression. In case you've forgotten your linear algebra, remember that for linear regressions, $\\beta = (X'X)^{-1}X'Y$, a fact you can see explained in detail on page four [here](https://www.stat.purdue.edu/~boli/stat512/lectures/topic3.pdf).\n",
    "\n",
    "Note that once you have written the code to do a linear regression, you'll need to put your outputs (your coefficents) somewhere. I recommend making an attribute for your class where you can store your coefficients. \n",
    "\n",
    "(As a reminder: the normal multiply operator (`*`) in `numpy` implies scalar multiplication. Use `@` for matrix multiplication). \n",
    "\n",
    "**HINT:** Remember that linear regressions require a vector of 1s in the `X` matrix. As the package writer, you get to decide whether users are expected to provide a matrix `X` that already has a vector of 1s, or whether you expect the user to provide a matrix `X` that doesn't have a vector of 1s (in which case you will need to add a vector of 1s before you fit the model)."
   ]
  },
  {
   "cell_type": "code",
   "execution_count": 2,
   "metadata": {},
   "outputs": [
    {
     "name": "stderr",
     "output_type": "stream",
     "text": [
      "c:\\Users\\kbagh\\miniconda3\\Lib\\site-packages\\numpy\\_distributor_init.py:30: UserWarning: loaded more than 1 DLL from .libs:\n",
      "c:\\Users\\kbagh\\miniconda3\\Lib\\site-packages\\numpy\\.libs\\libopenblas64__v0.3.21-gcc_10_3_0.dll\n",
      "c:\\Users\\kbagh\\miniconda3\\Lib\\site-packages\\numpy\\.libs\\libopenblas64__v0.3.23-246-g3d31191b-gcc_10_3_0.dll\n",
      "  warnings.warn(\"loaded more than 1 DLL from .libs:\"\n"
     ]
    }
   ],
   "source": [
    "import numpy as np\n",
    "\n",
    "\n",
    "class MyLinearModel:\n",
    "    def __init__(self):\n",
    "        self.coefficients = None\n",
    "\n",
    "    def fit(self, X, y):\n",
    "        X = np.hstack((np.ones((X.shape[0], 1)), X))\n",
    "\n",
    "        # Compute the coefficients using the normal equation\n",
    "        # beta = (X'X)^{-1}X'y\n",
    "        X_transpose = X.T\n",
    "        beta = np.linalg.inv(X_transpose @ X) @ X_transpose @ y\n",
    "\n",
    "        # Store the coefficients\n",
    "        self.coefficients = beta\n",
    "\n",
    "    def predict(self, X):\n",
    "        # This method will be defined later\n",
    "        pass"
   ]
  },
  {
   "cell_type": "markdown",
   "metadata": {},
   "source": [
    "**(3)** As you write code, it is good to test your code as you work. With that in mind, let's create some toy data. First, create a 100 x 2 matrix where each column is normally distributed. Then create a vector `y` that is a linear combination of those two columns **plus** a vector of normally distributed noise **and** a constant term. \n",
    "\n",
    "In other words, we want to create data where we *know* exactly what coefficients we should see so when we test our regression, we know if the results are accurate!"
   ]
  },
  {
   "cell_type": "code",
   "execution_count": 5,
   "metadata": {},
   "outputs": [
    {
     "data": {
      "text/plain": [
       "(array([[ 1.76405235,  0.40015721],\n",
       "        [ 0.97873798,  2.2408932 ],\n",
       "        [ 1.86755799, -0.97727788],\n",
       "        [ 0.95008842, -0.15135721],\n",
       "        [-0.10321885,  0.4105985 ]]),\n",
       " array([ 9.12266078,  3.21504838, 13.65688933,  8.8082434 ,  4.50927797]))"
      ]
     },
     "execution_count": 5,
     "metadata": {},
     "output_type": "execute_result"
    }
   ],
   "source": [
    "np.random.seed(0)\n",
    "\n",
    "X = np.random.randn(100, 2)\n",
    "\n",
    "true_coefficients = np.array([3, -2])\n",
    "intercept = 5\n",
    "\n",
    "noise = np.random.randn(100)\n",
    "\n",
    "y = intercept + X @ true_coefficients + noise\n",
    "\n",
    "\n",
    "X[:5], y[:5]"
   ]
  },
  {
   "cell_type": "markdown",
   "metadata": {},
   "source": [
    "The following is the first 5 entries for both rows in matrix X. As well, it has the first 5 entries for vector y, which is the linear combination of the columns in matrix X"
   ]
  },
  {
   "cell_type": "markdown",
   "metadata": {},
   "source": [
    "**(4)** Now test whether you `fit` method generates the correct coefficients. Remember the choice you made in Question 2 about whether your package expects the users' `X` matrix to include a vector of 1s when you test!"
   ]
  },
  {
   "cell_type": "code",
   "execution_count": 7,
   "metadata": {},
   "outputs": [
    {
     "name": "stdout",
     "output_type": "stream",
     "text": [
      "The following is the true coefficients that we want to properly derive\n"
     ]
    },
    {
     "data": {
      "text/plain": [
       "array([ 3, -2])"
      ]
     },
     "execution_count": 7,
     "metadata": {},
     "output_type": "execute_result"
    }
   ],
   "source": [
    "print(\"The following is the true coefficients that we want to properly derive\")\n",
    "true_coefficients"
   ]
  },
  {
   "cell_type": "code",
   "execution_count": 8,
   "metadata": {},
   "outputs": [
    {
     "name": "stdout",
     "output_type": "stream",
     "text": [
      "The following is first, the intercept, and second, the coefficients our linear regression attempted to dervie\n",
      "What we can see is that the coefficients are very close to what the true coefficients should be, meaning our model works well\n"
     ]
    },
    {
     "data": {
      "text/plain": [
       "array([ 4.94858887,  3.1104649 , -2.0540371 ])"
      ]
     },
     "execution_count": 8,
     "metadata": {},
     "output_type": "execute_result"
    }
   ],
   "source": [
    "linear_model = MyLinearModel()\n",
    "linear_model.fit(X, y)\n",
    "\n",
    "print(\n",
    "    \"The following is first, the intercept, and second, the coefficients our linear regression attempted to dervie\"\n",
    ")\n",
    "print(\n",
    "    \"What we can see is that the coefficients are very close to what the true coefficients should be, meaning our model works well\"\n",
    ")\n",
    "linear_model.coefficients"
   ]
  },
  {
   "cell_type": "markdown",
   "metadata": {},
   "source": [
    "**(5)** Now let's make the statisticians proud, and in addition to storing the coefficients, let's store the standard errors for our estimated coefficients as another attribute. Recall that the simplest method of calculating the variance covariance matrix for $\\beta$ is using the formula $\\sigma^2 (X'X)^{-1}$, where $\\sigma^2$ is the variance of the error terms of your regression. The standard errors for your coefficient estimates will be the diagonal values of that matrix. See page six [here](https://www.stat.purdue.edu/~boli/stat512/lectures/topic3.pdf) for a full derivation. "
   ]
  },
  {
   "cell_type": "code",
   "execution_count": 9,
   "metadata": {},
   "outputs": [],
   "source": [
    "class MyLinearModel:\n",
    "    def __init__(self):\n",
    "        self.coefficients = None\n",
    "        self.std_errors = None\n",
    "\n",
    "    def fit(self, X, y):\n",
    "        X_with_intercept = np.hstack((np.ones((X.shape[0], 1)), X))\n",
    "\n",
    "        X_transpose = X_with_intercept.T\n",
    "        beta = np.linalg.inv(X_transpose @ X_with_intercept) @ X_transpose @ y\n",
    "\n",
    "        self.coefficients = beta\n",
    "\n",
    "        residuals = y - X_with_intercept @ beta\n",
    "\n",
    "        residual_variance = np.sum(residuals**2) / (\n",
    "            X_with_intercept.shape[0] - X_with_intercept.shape[1]\n",
    "        )\n",
    "\n",
    "        varcov_beta = residual_variance * np.linalg.inv(X_transpose @ X_with_intercept)\n",
    "\n",
    "        self.std_errors = np.sqrt(np.diag(varcov_beta))\n",
    "\n",
    "    def predict(self, X):\n",
    "        # Predictions method will be defined later\n",
    "        pass"
   ]
  },
  {
   "cell_type": "markdown",
   "metadata": {},
   "source": [
    "**(6)** Now let's also add an R-squared attribute to the model."
   ]
  },
  {
   "cell_type": "code",
   "execution_count": 10,
   "metadata": {},
   "outputs": [],
   "source": [
    "class MyLinearModel:\n",
    "    def __init__(self):\n",
    "        self.coefficients = None\n",
    "        self.std_errors = None\n",
    "        self.r_squared = None\n",
    "\n",
    "    def fit(self, X, y):\n",
    "        X_with_intercept = np.hstack((np.ones((X.shape[0], 1)), X))\n",
    "\n",
    "        X_transpose = X_with_intercept.T\n",
    "        beta = np.linalg.inv(X_transpose @ X_with_intercept) @ X_transpose @ y\n",
    "\n",
    "        self.coefficients = beta\n",
    "\n",
    "        residuals = y - X_with_intercept @ beta\n",
    "\n",
    "        residual_variance = np.sum(residuals**2) / (\n",
    "            X_with_intercept.shape[0] - X_with_intercept.shape[1]\n",
    "        )\n",
    "\n",
    "        varcov_beta = residual_variance * np.linalg.inv(X_transpose @ X_with_intercept)\n",
    "\n",
    "        self.std_errors = np.sqrt(np.diag(varcov_beta))\n",
    "\n",
    "        # Calculate R-squared\n",
    "        ss_res = np.sum(residuals**2)\n",
    "        ss_tot = np.sum((y - np.mean(y)) ** 2)\n",
    "        self.r_squared = 1 - ss_res / ss_tot\n",
    "\n",
    "    def predict(self, X):\n",
    "        # This method will be defined later\n",
    "        pass"
   ]
  },
  {
   "cell_type": "code",
   "execution_count": 12,
   "metadata": {},
   "outputs": [
    {
     "name": "stdout",
     "output_type": "stream",
     "text": [
      "The following below is the fitted coefficients, the standard errors, and the R-squared value of our linear regression model\n"
     ]
    },
    {
     "data": {
      "text/plain": [
       "(array([ 4.94858887,  3.1104649 , -2.0540371 ]),\n",
       " array([0.09674321, 0.09376987, 0.09433688]),\n",
       " 0.9431757673307737)"
      ]
     },
     "execution_count": 12,
     "metadata": {},
     "output_type": "execute_result"
    }
   ],
   "source": [
    "linear_model = MyLinearModel()\n",
    "linear_model.fit(X, y)\n",
    "\n",
    "\n",
    "print(\n",
    "    \"The following below is the fitted coefficients, the standard errors, and the R-squared value of our linear regression model\"\n",
    ")\n",
    "linear_model.coefficients, linear_model.std_errors, linear_model.r_squared"
   ]
  },
  {
   "cell_type": "markdown",
   "metadata": {},
   "source": [
    "**(7)** Now we'll go ahead and cheat a little. Use `statsmodels` to fit your model with your toy data to ensure your standard errors and r-squared are correct!"
   ]
  },
  {
   "cell_type": "code",
   "execution_count": 14,
   "metadata": {},
   "outputs": [
    {
     "name": "stdout",
     "output_type": "stream",
     "text": [
      "The following below is the fitted coefficients, the standard errors, and the R-squared value from statsmodels\n",
      "In comparison to above, we clearly see that the linear model class worked exactly as intended\n"
     ]
    },
    {
     "data": {
      "text/plain": [
       "(array([ 4.94858887,  3.1104649 , -2.0540371 ]),\n",
       " array([0.09674321, 0.09376987, 0.09433688]),\n",
       " 0.9431757673307737)"
      ]
     },
     "execution_count": 14,
     "metadata": {},
     "output_type": "execute_result"
    }
   ],
   "source": [
    "import statsmodels.api as sm\n",
    "\n",
    "# Add a constant term to X for the intercept\n",
    "X_with_intercept = sm.add_constant(X)\n",
    "\n",
    "model = sm.OLS(y, X_with_intercept)\n",
    "results = model.fit()\n",
    "\n",
    "r_squared_sm = results.rsquared\n",
    "std_errors_sm = results.bse\n",
    "coefficients_sm = results.params\n",
    "\n",
    "print(\n",
    "    \"The following below is the fitted coefficients, the standard errors, and the R-squared value from statsmodels\"\n",
    ")\n",
    "print(\n",
    "    \"In comparison to above, we clearly see that the linear model class worked exactly as intended\"\n",
    ")\n",
    "coefficients_sm, std_errors_sm, r_squared_sm"
   ]
  },
  {
   "cell_type": "markdown",
   "metadata": {},
   "source": [
    "**(8)** Now implement `predict`! Then test it against your original `X` data -- do you get back something very close to your true `y`?"
   ]
  },
  {
   "cell_type": "code",
   "execution_count": 15,
   "metadata": {},
   "outputs": [],
   "source": [
    "class MyLinearModel:\n",
    "    def __init__(self):\n",
    "        self.coefficients = None\n",
    "        self.std_errors = None\n",
    "        self.r_squared = None\n",
    "\n",
    "    def fit(self, X, y):\n",
    "        X_with_intercept = np.hstack((np.ones((X.shape[0], 1)), X))\n",
    "\n",
    "        X_transpose = X_with_intercept.T\n",
    "        beta = np.linalg.inv(X_transpose @ X_with_intercept) @ X_transpose @ y\n",
    "\n",
    "        self.coefficients = beta\n",
    "\n",
    "        residuals = y - X_with_intercept @ beta\n",
    "\n",
    "        residual_variance = np.sum(residuals**2) / (\n",
    "            X_with_intercept.shape[0] - X_with_intercept.shape[1]\n",
    "        )\n",
    "\n",
    "        varcov_beta = residual_variance * np.linalg.inv(X_transpose @ X_with_intercept)\n",
    "\n",
    "        self.std_errors = np.sqrt(np.diag(varcov_beta))\n",
    "\n",
    "        # Calculate R-squared\n",
    "        ss_res = np.sum(residuals**2)\n",
    "        ss_tot = np.sum((y - np.mean(y)) ** 2)\n",
    "        self.r_squared = 1 - ss_res / ss_tot\n",
    "\n",
    "    def predict(self, X):\n",
    "        # Check if the model has been fit\n",
    "        if self.coefficients is None:\n",
    "            raise ValueError(\"Model has not been fit yet.\")\n",
    "\n",
    "        X_with_intercept = np.hstack((np.ones((X.shape[0], 1)), X))\n",
    "\n",
    "        return X_with_intercept @ self.coefficients"
   ]
  },
  {
   "cell_type": "code",
   "execution_count": 17,
   "metadata": {},
   "outputs": [
    {
     "name": "stdout",
     "output_type": "stream",
     "text": [
      "As we can see here, the first 5 predictors are incredibly close to the true values, showing that the predict method works as intended\n"
     ]
    },
    {
     "data": {
      "text/plain": [
       "(array([ 9.61367403,  3.39004125, 12.76492748,  8.21469887,  3.7841457 ]),\n",
       " array([ 9.12266078,  3.21504838, 13.65688933,  8.8082434 ,  4.50927797]))"
      ]
     },
     "execution_count": 17,
     "metadata": {},
     "output_type": "execute_result"
    }
   ],
   "source": [
    "linear_model = MyLinearModel()\n",
    "linear_model.fit(X, y)\n",
    "y_pred = linear_model.predict(X)\n",
    "\n",
    "print(\n",
    "    \"As we can see here, the first 5 predictors are incredibly close to the true values, showing that the predict method works as intended\"\n",
    ")\n",
    "y_pred[:5], y[:5]"
   ]
  },
  {
   "cell_type": "markdown",
   "metadata": {},
   "source": [
    "**(9)** Finally, create the *option* of fitting the model with or without a constant term. In other words, create an option so that, if the user passes a numpy array *without* a constant term, your code will add a vector of 1s before fitting the model. As in `scikit-learn`, make this an option you set during initialization. "
   ]
  },
  {
   "cell_type": "code",
   "execution_count": 18,
   "metadata": {},
   "outputs": [],
   "source": [
    "class MyLinearModel:\n",
    "    def __init__(self, fit_intercept=True):\n",
    "        self.coefficients = None\n",
    "        self.std_errors = None\n",
    "        self.r_squared = None\n",
    "        self.fit_intercept = fit_intercept\n",
    "\n",
    "    def fit(self, X, y):\n",
    "        if self.fit_intercept:\n",
    "            X_with_intercept = np.hstack((np.ones((X.shape[0], 1)), X))\n",
    "        else:\n",
    "            X_with_intercept = X\n",
    "\n",
    "        X_transpose = X_with_intercept.T\n",
    "        beta = np.linalg.inv(X_transpose @ X_with_intercept) @ X_transpose @ y\n",
    "\n",
    "        self.coefficients = beta\n",
    "\n",
    "        residuals = y - X_with_intercept @ beta\n",
    "\n",
    "        residual_variance = np.sum(residuals**2) / (\n",
    "            X_with_intercept.shape[0] - X_with_intercept.shape[1]\n",
    "        )\n",
    "\n",
    "        varcov_beta = residual_variance * np.linalg.inv(X_transpose @ X_with_intercept)\n",
    "\n",
    "        self.std_errors = np.sqrt(np.diag(varcov_beta))\n",
    "\n",
    "        ss_res = np.sum(residuals**2)\n",
    "        ss_tot = np.sum((y - np.mean(y)) ** 2)\n",
    "        self.r_squared = 1 - ss_res / ss_tot\n",
    "\n",
    "    def predict(self, X):\n",
    "        if self.coefficients is None:\n",
    "            raise ValueError(\"Model has not been fit yet.\")\n",
    "\n",
    "        if self.fit_intercept:\n",
    "            X_with_intercept = np.hstack((np.ones((X.shape[0], 1)), X))\n",
    "        else:\n",
    "            X_with_intercept = X\n",
    "\n",
    "        return X_with_intercept @ self.coefficients"
   ]
  },
  {
   "cell_type": "code",
   "execution_count": 20,
   "metadata": {},
   "outputs": [
    {
     "name": "stdout",
     "output_type": "stream",
     "text": [
      "The following below shows that the code will properly check whether or not a constant term was added\n"
     ]
    },
    {
     "data": {
      "text/plain": [
       "(array([ 3.12204331, -1.38230335]),\n",
       " array([ 4.94858887,  3.1104649 , -2.0540371 ]))"
      ]
     },
     "execution_count": 20,
     "metadata": {},
     "output_type": "execute_result"
    }
   ],
   "source": [
    "# Instantiate the model without an intercept, fit it, and predict\n",
    "linear_model_no_intercept = MyLinearModel(fit_intercept=False)\n",
    "linear_model_no_intercept.fit(X, y)\n",
    "coefficients_no_intercept = linear_model_no_intercept.coefficients\n",
    "\n",
    "# Instantiate the model with an intercept (default), fit it, and predict\n",
    "linear_model_with_intercept = MyLinearModel()\n",
    "linear_model_with_intercept.fit(X, y)\n",
    "coefficients_with_intercept = linear_model_with_intercept.coefficients\n",
    "\n",
    "print(\n",
    "    \"The following below shows that the code will properly check whether or not a constant term was added\"\n",
    ")\n",
    "coefficients_no_intercept, coefficients_with_intercept"
   ]
  },
  {
   "cell_type": "code",
   "execution_count": null,
   "metadata": {},
   "outputs": [],
   "source": []
  }
 ],
 "metadata": {
  "kernelspec": {
   "display_name": "Python 3",
   "language": "python",
   "name": "python3"
  },
  "language_info": {
   "codemirror_mode": {
    "name": "ipython",
    "version": 3
   },
   "file_extension": ".py",
   "mimetype": "text/x-python",
   "name": "python",
   "nbconvert_exporter": "python",
   "pygments_lexer": "ipython3",
   "version": "3.11.5"
  }
 },
 "nbformat": 4,
 "nbformat_minor": 4
}
