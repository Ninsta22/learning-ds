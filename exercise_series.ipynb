{
 "cells": [
  {
   "cell_type": "markdown",
   "metadata": {},
   "source": [
    "# Measuring Income Equality with the Gini Coefficient\n",
    "\n",
    "As we discussed in our numpy exercises, one frequently used measure of inequality is the Gini Coefficient. The Gini Coefficient takes on a value of 1 when the distribution of some property is maximally unequal across a said of entities, and a value of 0 when it is evenly distributed. \n",
    "\n",
    "In this exercise, we will calculate the Gini Coefficient for income inequality across the countries of the world to get a sense of income inequality *across* countries. \n"
   ]
  },
  {
   "cell_type": "markdown",
   "metadata": {},
   "source": [
    "## Gradescope Autograding\n",
    "\n",
    "Please follow [all standard guidance](https://www.practicaldatascience.org/html/autograder_guidelines.html) for submitting this assignment to the Gradescope autograder, including storing your solutions in a dictionary called `results` and ensuring your notebook runs from the start to completion without any errors.\n",
    "\n",
    "**Starting with this assignment, submissions that have not been formatted with `black` will be automatically rejected.**\n",
    "\n",
    "For this assignment, please name your file `exercise_series.ipynb` before uploading.\n",
    "\n",
    "You can check that you have answers for all questions in your `results` dictionary with this code:\n",
    "\n",
    "```python\n",
    "assert set(results.keys()) == {\n",
    "    \"ex2_mean\",\n",
    "    \"ex2_median\",\n",
    "    \"ex3_highest_gdp_percap\",\n",
    "    \"ex3_lowest_gdp_percap\",\n",
    "    \"ex4_lessthan20_000\",\n",
    "    \"ex5_switzerland\",\n",
    "    \"ex6_gini_loop\",\n",
    "    \"ex7_gini_vectorized\",\n",
    "    \"ex8_gini_2025\",\n",
    "}\n",
    "```\n",
    "\n",
    "### Submission Limits\n",
    "\n",
    "Please remember that you are **only allowed three submissions to the autograder.** Your last submission (if you submit 3 or fewer times), or your third submission (if you submit more than 3 times) will determine your grade Submissions that error out will **not** count against this total.\n"
   ]
  },
  {
   "cell_type": "markdown",
   "metadata": {},
   "source": [
    "### Exercise 1\n",
    "\n",
    "To get accustomed to Series, let's explore some data on the wealth of 10 randomly selected countries. Data below presents the GDP per capita for these countries in 2008. \n",
    "\n",
    "Use the code below to get started: \n",
    "\n",
    "```python\n",
    "gdppercap = pd.Series(\n",
    "    [34605, 34493, 12393, 44200, 10041, 58138, 4709, 49284, 10109, 42536],\n",
    "    index=[\n",
    "        \"Bahrain\",\n",
    "        \"Belgium\",\n",
    "        \"Bulgaria\",\n",
    "        \"Ireland\",\n",
    "        \"Macedonia\",\n",
    "        \"Norway\",\n",
    "        \"Paraguay\",\n",
    "        \"Singapore\",\n",
    "        \"South Africa\",\n",
    "        \"Switzerland\",\n",
    "    ],\n",
    ")\n",
    "```\n",
    "\n"
   ]
  },
  {
   "cell_type": "code",
   "execution_count": 1,
   "metadata": {},
   "outputs": [
    {
     "name": "stderr",
     "output_type": "stream",
     "text": [
      "c:\\Users\\kbagh\\miniconda3\\Lib\\site-packages\\numpy\\_distributor_init.py:30: UserWarning: loaded more than 1 DLL from .libs:\n",
      "c:\\Users\\kbagh\\miniconda3\\Lib\\site-packages\\numpy\\.libs\\libopenblas64__v0.3.21-gcc_10_3_0.dll\n",
      "c:\\Users\\kbagh\\miniconda3\\Lib\\site-packages\\numpy\\.libs\\libopenblas64__v0.3.23-246-g3d31191b-gcc_10_3_0.dll\n",
      "  warnings.warn(\"loaded more than 1 DLL from .libs:\"\n"
     ]
    }
   ],
   "source": [
    "import pandas as pd\n",
    "import numpy as np"
   ]
  },
  {
   "cell_type": "code",
   "execution_count": 2,
   "metadata": {},
   "outputs": [],
   "source": [
    "results = {}\n",
    "\n",
    "gdppercap = pd.Series(\n",
    "    [34605, 34493, 12393, 44200, 10041, 58138, 4709, 49284, 10109, 42536],\n",
    "    index=[\n",
    "        \"Bahrain\",\n",
    "        \"Belgium\",\n",
    "        \"Bulgaria\",\n",
    "        \"Ireland\",\n",
    "        \"Macedonia\",\n",
    "        \"Norway\",\n",
    "        \"Paraguay\",\n",
    "        \"Singapore\",\n",
    "        \"South Africa\",\n",
    "        \"Switzerland\",\n",
    "    ],\n",
    ")"
   ]
  },
  {
   "cell_type": "markdown",
   "metadata": {},
   "source": [
    "### Exercise 2\n",
    "\n",
    "Find the mean, median, minimum and maximum values of GDP per capita in this data. "
   ]
  },
  {
   "cell_type": "code",
   "execution_count": 3,
   "metadata": {},
   "outputs": [
    {
     "data": {
      "text/plain": [
       "count       10.000000\n",
       "mean     30050.800000\n",
       "std      19170.095217\n",
       "min       4709.000000\n",
       "25%      10680.000000\n",
       "50%      34549.000000\n",
       "75%      43784.000000\n",
       "max      58138.000000\n",
       "dtype: float64"
      ]
     },
     "execution_count": 3,
     "metadata": {},
     "output_type": "execute_result"
    }
   ],
   "source": [
    "gdppercap.describe()"
   ]
  },
  {
   "cell_type": "code",
   "execution_count": 4,
   "metadata": {},
   "outputs": [
    {
     "data": {
      "text/plain": [
       "34549.0"
      ]
     },
     "execution_count": 4,
     "metadata": {},
     "output_type": "execute_result"
    }
   ],
   "source": [
    "gdppercap.median()"
   ]
  },
  {
   "cell_type": "code",
   "execution_count": 5,
   "metadata": {},
   "outputs": [],
   "source": [
    "results[\"ex2_mean\"] = gdppercap.mean()\n",
    "results[\"ex2_median\"] = gdppercap.median()"
   ]
  },
  {
   "cell_type": "markdown",
   "metadata": {},
   "source": [
    "The mean is 30050.8, the median is 34549, minimum is 4709, and the maximum is 58138"
   ]
  },
  {
   "cell_type": "markdown",
   "metadata": {},
   "source": [
    "## Exercise 3\n",
    "\n",
    "Programmatically, determine which country in our data has the highest income per capita, and which has the lowest income per capita.\n",
    "\n",
    "(Obviously, this is easier to do by just looking at the data, but that's only because this dataset is very small. With a real dataset, you would need to do it with code, so please write code to accomplish this task.)\n",
    "\n",
    "Hint: Country names form the index for this Series, so to get country names you'll need to access the index. \n",
    "\n",
    "Store the country names *as strings* with the keys `\"ex3_highest_gdp_percap\"` and `\"ex3_lowest_gdp_percap\"`"
   ]
  },
  {
   "cell_type": "code",
   "execution_count": 6,
   "metadata": {},
   "outputs": [
    {
     "data": {
      "text/plain": [
       "Norway    58138\n",
       "dtype: int64"
      ]
     },
     "execution_count": 6,
     "metadata": {},
     "output_type": "execute_result"
    }
   ],
   "source": [
    "results[\"ex3_highest_gdp_percap\"] = \"Norway\"\n",
    "gdppercap[gdppercap == gdppercap.max()]"
   ]
  },
  {
   "cell_type": "code",
   "execution_count": 7,
   "metadata": {},
   "outputs": [
    {
     "data": {
      "text/plain": [
       "Paraguay    4709\n",
       "dtype: int64"
      ]
     },
     "execution_count": 7,
     "metadata": {},
     "output_type": "execute_result"
    }
   ],
   "source": [
    "results[\"ex3_lowest_gdp_percap\"] = \"Paraguay\"\n",
    "gdppercap[gdppercap == gdppercap.min()]"
   ]
  },
  {
   "cell_type": "markdown",
   "metadata": {},
   "source": [
    "### Exercise 4\n",
    "\n",
    "Get Python to print out the names of all the countries that have GDP per capita of less than \\$20,000.\n",
    "\n",
    "Store these countries in a list, sorted alphabetically, and store it in `results` under the key `\"ex4_lessthan20_000\"`"
   ]
  },
  {
   "cell_type": "code",
   "execution_count": 8,
   "metadata": {},
   "outputs": [
    {
     "data": {
      "text/plain": [
       "['Bulgaria', 'Macedonia', 'Paraguay', 'South Africa']"
      ]
     },
     "execution_count": 8,
     "metadata": {},
     "output_type": "execute_result"
    }
   ],
   "source": [
    "results[\"ex4_lessthan20_000\"] = gdppercap[gdppercap < 20000].index.tolist()\n",
    "gdppercap[gdppercap < 20000].index.tolist()"
   ]
  },
  {
   "cell_type": "markdown",
   "metadata": {},
   "source": [
    "## Exercise 5 \n",
    "\n",
    "Get Python to print out the GDP per capita of Switzerland. Store the result as `ex5_switzerland`:"
   ]
  },
  {
   "cell_type": "code",
   "execution_count": 9,
   "metadata": {},
   "outputs": [
    {
     "data": {
      "text/plain": [
       "42536"
      ]
     },
     "execution_count": 9,
     "metadata": {},
     "output_type": "execute_result"
    }
   ],
   "source": [
    "results[\"ex5_switzerland\"] = gdppercap[\"Switzerland\"]\n",
    "gdppercap[\"Switzerland\"]"
   ]
  },
  {
   "cell_type": "markdown",
   "metadata": {},
   "source": [
    "## Exercise 6\n",
    "\n",
    "One frequntly used measure of inequality is the Gini Coefficient. The Gini Coefficient takes on a value of 1 when the distribution of some variable is maximally unequal across a population, and a value of 0 when it is evenly distributed. We will calculate the Gini Coefficient for income inequality in our data. \n",
    "\n",
    "To visualize the Gini Coefficient, we plot the cumulative share of the population (ordered from poorest to richest) on the x-axis, and cumulative share of income earned by that group on the y-axis. The Gini Coefficient is then defined as $$\\frac{A}{A + B}$$, where the areas A and B are labeled below: \n",
    "\n",
    "![gini_coefficient](https://upload.wikimedia.org/wikipedia/commons/thumb/5/59/Economics_Gini_coefficient2.svg/800px-Economics_Gini_coefficient2.svg.png)\n",
    "\n",
    "If income is evenly distributed, then the poorest 20% of a population will also have 20% of the wealth; the poorest 40% will have 40% of the wealth, and so forth, resulting in a perfect 45 degree line. In this situation, there is no area between the 45% line and the actual income distribution, so $A=0$, and the Gini Coefficient is 0. \n",
    "\n",
    "If, by contrast, the top 10% of people hold all the wealth in a country, then there will be no wealth for the poorest 90% of people, then wealth will jump up at the far right side of the graph. This will generate a very large gap between the 45% line and actual income for most of the graph, generating a large value for the area $A$, creating a very high Gini Coefficient. \n",
    "\n",
    "To illustrate, here are a few different Gini plots. These come from someone studying inequality of participation, so to adapt this to our study of income, just imagine the y-axis plots share of income):\n",
    "\n",
    "![gini_distributions](https://miro.medium.com/max/595/0*3DTcZnzDwS6A6AtP)"
   ]
  },
  {
   "cell_type": "markdown",
   "metadata": {},
   "source": [
    "For discrete data, the Gini Coefficient can be calculated with the following formula: \n",
    "\n",
    "$$\\frac{2 \\sum_{i=1}^n i y_i}{n \\sum_{i=1}^n y_i} -\\frac{n+1}{n}$$\n",
    "\n",
    "Where $i$ is each country's rank ordering from poorest to richest, and $y_i$ is the income of country $i$.\n"
   ]
  },
  {
   "cell_type": "markdown",
   "metadata": {},
   "source": [
    "\n",
    "### Exercise 6\n",
    "\n",
    "Using this formula, calculate the Gini coefficient for our income data. \n",
    "\n",
    "Begin by writing a function to calculate the Gini Coefficient for our data *by looping over the entries in our Series*. In other words, try and embrace the spirit of how you might normally think about interpreting the summation notation written above.\n",
    "\n",
    "Store the gini coefficient you calculate in `results` under the key `\"ex6_gini_loop\"`.\n",
    "\n",
    "**HINT**: Be careful with 0-indexing! Python counts from 0, but mathematical formulas (like $\\sum$) start from 1!\n",
    "\n",
    "**HINT 2**: I'll probalby ask you to use this more than once, so please put it in a function."
   ]
  },
  {
   "cell_type": "code",
   "execution_count": 10,
   "metadata": {},
   "outputs": [
    {
     "data": {
      "text/plain": [
       "0.3382798461272245"
      ]
     },
     "execution_count": 10,
     "metadata": {},
     "output_type": "execute_result"
    }
   ],
   "source": [
    "def calc_gini(data):\n",
    "    gini_copy = data.copy()\n",
    "    gini_copy = gini_copy.sort_values()\n",
    "    num = 0.0\n",
    "    den = 0.0\n",
    "    for i in range(len(gini_copy)):\n",
    "        num += gini_copy.iloc[i] * (i + 1)\n",
    "        den += gini_copy.iloc[i]\n",
    "    num = num * 2\n",
    "    den = den * len(gini_copy)\n",
    "    total = (num / den) - ((len(gini_copy) + 1) / len(gini_copy))\n",
    "    return total\n",
    "\n",
    "\n",
    "results[\"ex6_gini_loop\"] = calc_gini(gdppercap)\n",
    "calc_gini(gdppercap)"
   ]
  },
  {
   "cell_type": "markdown",
   "metadata": {},
   "source": [
    "### Exercise 7\n",
    "\n",
    "Excellent! But as we've seen in [our readings](https://nickeubank.github.io/practicaldatascience_book/notebooks/class_2/week_4/11_vectorization.html), in data science we generally strive to *not* loop over the entries in our arrays; instead, we aspire to write *vectorized code* that naturally applies a simple operation to each observation.\n",
    "\n",
    "So now write a new function to calculate the Gini Coefficient that *doesn't* use loops, and instead relies on vectorized code.\n",
    "\n",
    "Store the result in `results` under the key `\"ex7_gini_vectorized\"`.\n",
    "\n",
    "**HINT:** you will probably have to create some new series/vectors/arrays."
   ]
  },
  {
   "cell_type": "code",
   "execution_count": 11,
   "metadata": {},
   "outputs": [
    {
     "data": {
      "text/plain": [
       "0.3382798461272245"
      ]
     },
     "execution_count": 11,
     "metadata": {},
     "output_type": "execute_result"
    }
   ],
   "source": [
    "def gini_vect(data):\n",
    "    gini_copy = data.copy()\n",
    "    index_val = np.arange(len(gini_copy)) + 1\n",
    "    num_temp = gini_copy.sort_values().values * index_val\n",
    "    num = num_temp.sum() * 2\n",
    "    den = gini_copy.values.sum() * len(gini_copy)\n",
    "    return (num / den) - ((len(gini_copy) + 1) / len(gini_copy))\n",
    "\n",
    "\n",
    "results[\"ex7_gini_vectorized\"] = gini_vect(gdppercap)\n",
    "gini_vect(gdppercap)"
   ]
  },
  {
   "cell_type": "markdown",
   "metadata": {},
   "source": [
    "### Exercise 8\n",
    "\n",
    "The result we just generated offers a snap-shot of inequality for this subset of countries. But what are the dynamics of inequality for these countries?\n",
    "\n",
    "There is an idea in economics called the \"convergence hypothesis\", which argues that poorer countries are likely to grow faster, and as a result global inequality is likely to decline. Economists advocating for this hypothesis pointed out that while rich countries had to invent new technologies in order to grow, many poor countries simply had to take advantage of innovations already developed by rich countries. \n",
    "\n",
    "To test this hypothesis, let's do a small analysis of the dynamics of income inequality in our sample. Create the following Series in your Python session, which provides the average growth rate of GDP per capita for all the countries in our sample from 2000 to 2018. \n",
    "\n",
    "```python\n",
    "avg_growth = pd.Series(\n",
    "    [\n",
    "        -0.29768835,\n",
    "        0.980299584,\n",
    "        4.52991925,\n",
    "        3.686556736,\n",
    "        2.621416804,\n",
    "        0.775132075,\n",
    "        2.015489468,\n",
    "        3.345793635,\n",
    "        1.349993318,\n",
    "        0.982775018,\n",
    "    ],\n",
    "    index=[\n",
    "        \"Bahrain\",\n",
    "        \"Belgium\",\n",
    "        \"Bulgaria\",\n",
    "        \"Ireland\",\n",
    "        \"Macedonia\",\n",
    "        \"Norway\",\n",
    "        \"Paraguay\",\n",
    "        \"Singapore\",\n",
    "        \"South Africa\",\n",
    "        \"Switzerland\",\n",
    "    ],\n",
    ")\n",
    "```"
   ]
  },
  {
   "cell_type": "code",
   "execution_count": 12,
   "metadata": {},
   "outputs": [],
   "source": [
    "avg_growth = pd.Series(\n",
    "    [\n",
    "        -0.29768835,\n",
    "        0.980299584,\n",
    "        4.52991925,\n",
    "        3.686556736,\n",
    "        2.621416804,\n",
    "        0.775132075,\n",
    "        2.015489468,\n",
    "        3.345793635,\n",
    "        1.349993318,\n",
    "        0.982775018,\n",
    "    ],\n",
    "    index=[\n",
    "        \"Bahrain\",\n",
    "        \"Belgium\",\n",
    "        \"Bulgaria\",\n",
    "        \"Ireland\",\n",
    "        \"Macedonia\",\n",
    "        \"Norway\",\n",
    "        \"Paraguay\",\n",
    "        \"Singapore\",\n",
    "        \"South Africa\",\n",
    "        \"Switzerland\",\n",
    "    ],\n",
    ")"
   ]
  },
  {
   "cell_type": "markdown",
   "metadata": {},
   "source": [
    "Using this data on average growth rates in GDP per capita, and assuming growth rates from 2000 to 2018 continue into the future, estimate what our Gini Coefficient may look like in 2025 (remembering that income in our data is from 2008, so we're extrapolating ahead 17 years)?\n",
    "\n",
    "**Hint:** the formula for compound growth (i.e. value of something growing at a rate of `x` percent for $t$ periods) is:\n",
    "\n",
    "$$future\\_value = current\\_value * (1 + \\frac{percentage\\_growth\\_rate}{100}))^t$$\n",
    "\n",
    "Store the answer in `results` under the key `\"ex8_gini_2025\"`"
   ]
  },
  {
   "cell_type": "code",
   "execution_count": 13,
   "metadata": {},
   "outputs": [
    {
     "data": {
      "text/plain": [
       "0.3656264991306193"
      ]
     },
     "execution_count": 13,
     "metadata": {},
     "output_type": "execute_result"
    }
   ],
   "source": [
    "future_model = gdppercap.copy()\n",
    "final_values = future_model * ((1 + (avg_growth / 100)) ** 17)\n",
    "results[\"ex8_gini_2025\"] = gini_vect(final_values)\n",
    "gini_vect(final_values)"
   ]
  },
  {
   "cell_type": "markdown",
   "metadata": {},
   "source": [
    "### Exercise 9\n",
    "\n",
    "Interpret your result -- does it seem to imply that we are seeing covergence or not?\n",
    "\n",
    "[After you're done, you can see a more systematic version of this analysis here!](https://www.cgdev.org/blog/everything-you-know-about-cross-country-convergence-now-wrong)"
   ]
  },
  {
   "cell_type": "markdown",
   "metadata": {},
   "source": [
    "The results that we reached seemed to imply that we are not seeing a convergence, as the Gini Coefficient slightly increased, when looking at our 2025 data"
   ]
  }
 ],
 "metadata": {
  "interpreter": {
   "hash": "f06fa9c80cc08d4d343f66ad24a278ad0285590eac640a80c32c9d748f33a802"
  },
  "kernelspec": {
   "display_name": "Python 3.9.7 64-bit ('base': conda)",
   "name": "python3"
  },
  "language_info": {
   "codemirror_mode": {
    "name": "ipython",
    "version": 3
   },
   "file_extension": ".py",
   "mimetype": "text/x-python",
   "name": "python",
   "nbconvert_exporter": "python",
   "pygments_lexer": "ipython3",
   "version": "3.11.5"
  }
 },
 "nbformat": 4,
 "nbformat_minor": 4
}
