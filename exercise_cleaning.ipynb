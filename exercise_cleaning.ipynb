{
    "cells": [
        {
            "cell_type": "markdown",
            "metadata": {},
            "source": [
                "# Cleaning Data Exercises\n",
                "\n",
                "In this exercise, we'll be returning to the American Community Survey data we used previously to measuring racial income inequality in the United States. In today's exercise, we'll be using it to measure the returns to education and how those returns vary by race and gender.\n",
                "\n"
            ]
        },
        {
            "cell_type": "markdown",
            "metadata": {},
            "source": [
                "\n",
                "## Gradescope Autograding\n",
                "\n",
                "Please follow [all standard guidance](https://www.practicaldatascience.org/html/autograder_guidelines.html) for submitting this assignment to the Gradescope autograder, including storing your solutions in a dictionary called `results` and ensuring your notebook runs from the start to completion without any errors.\n",
                "\n",
                "For this assignment, please name your file `exercise_missing.ipynb` before uploading.\n",
                "\n",
                "You can check that you have answers for all questions in your `results` dictionary with this code:\n",
                "\n",
                "```python\n",
                "assert set(results.keys()) == {\n",
                "    \"ex5_age_young\",\n",
                "    \"ex5_age_old\",\n",
                "    \"ex7_avg_age\",\n",
                "    \"ex8_avg_age\",\n",
                "    \"ex9_num_college\",\n",
                "    \"ex11_share_male_w_degrees\",\n",
                "    \"ex11_share_female_w_degrees\",\n",
                "    \"ex12_comparing\",\n",
                "}\n",
                "```\n",
                "\n",
                "\n",
                "### Submission Limits\n",
                "\n",
                "Please remember that you are **only allowed three submissions to the autograder.** Your last submission (if you submit 3 or fewer times), or your third submission (if you submit more than 3 times) will determine your grade Submissions that error out will **not** count against this total."
            ]
        },
        {
            "cell_type": "code",
            "execution_count": 1,
            "metadata": {},
            "outputs": [
                {
                    "name": "stderr",
                    "output_type": "stream",
                    "text": [
                        "c:\\Users\\kbagh\\miniconda3\\Lib\\site-packages\\numpy\\_distributor_init.py:30: UserWarning: loaded more than 1 DLL from .libs:\n",
                        "c:\\Users\\kbagh\\miniconda3\\Lib\\site-packages\\numpy\\.libs\\libopenblas64__v0.3.21-gcc_10_3_0.dll\n",
                        "c:\\Users\\kbagh\\miniconda3\\Lib\\site-packages\\numpy\\.libs\\libopenblas64__v0.3.23-246-g3d31191b-gcc_10_3_0.dll\n",
                        "  warnings.warn(\"loaded more than 1 DLL from .libs:\"\n"
                    ]
                }
            ],
            "source": [
                "import numpy as np\n",
                "import pandas as pd\n",
                "\n",
                "pd.set_option(\"mode.copy_on_write\", True)\n",
                "\n",
                "results = {}"
            ]
        },
        {
            "cell_type": "markdown",
            "metadata": {},
            "source": [
                "## Exercises\n",
                "\n",
                "### Exercise 1\n",
                "\n",
                "For these cleaning exercises, we'll return to the ACS data we've used before one last time. We'll be working with `US_ACS_2017_10pct_sample.dta`. Import the data (please use url for the autograder)."
            ]
        },
        {
            "cell_type": "code",
            "execution_count": 2,
            "metadata": {},
            "outputs": [
                {
                    "data": {
                        "text/html": [
                            "<div>\n",
                            "<style scoped>\n",
                            "    .dataframe tbody tr th:only-of-type {\n",
                            "        vertical-align: middle;\n",
                            "    }\n",
                            "\n",
                            "    .dataframe tbody tr th {\n",
                            "        vertical-align: top;\n",
                            "    }\n",
                            "\n",
                            "    .dataframe thead th {\n",
                            "        text-align: right;\n",
                            "    }\n",
                            "</style>\n",
                            "<table border=\"1\" class=\"dataframe\">\n",
                            "  <thead>\n",
                            "    <tr style=\"text-align: right;\">\n",
                            "      <th></th>\n",
                            "      <th>year</th>\n",
                            "      <th>datanum</th>\n",
                            "      <th>serial</th>\n",
                            "      <th>cbserial</th>\n",
                            "      <th>numprec</th>\n",
                            "      <th>subsamp</th>\n",
                            "      <th>hhwt</th>\n",
                            "      <th>hhtype</th>\n",
                            "      <th>cluster</th>\n",
                            "      <th>adjust</th>\n",
                            "      <th>...</th>\n",
                            "      <th>migcounty1</th>\n",
                            "      <th>migmet131</th>\n",
                            "      <th>vetdisab</th>\n",
                            "      <th>diffrem</th>\n",
                            "      <th>diffphys</th>\n",
                            "      <th>diffmob</th>\n",
                            "      <th>diffcare</th>\n",
                            "      <th>diffsens</th>\n",
                            "      <th>diffeye</th>\n",
                            "      <th>diffhear</th>\n",
                            "    </tr>\n",
                            "  </thead>\n",
                            "  <tbody>\n",
                            "    <tr>\n",
                            "      <th>0</th>\n",
                            "      <td>2017</td>\n",
                            "      <td>1</td>\n",
                            "      <td>177686</td>\n",
                            "      <td>2.017001e+12</td>\n",
                            "      <td>9</td>\n",
                            "      <td>64</td>\n",
                            "      <td>55</td>\n",
                            "      <td>female householder, no husband present</td>\n",
                            "      <td>2.017002e+12</td>\n",
                            "      <td>1.011189</td>\n",
                            "      <td>...</td>\n",
                            "      <td>0</td>\n",
                            "      <td>not in identifiable area</td>\n",
                            "      <td>n/a</td>\n",
                            "      <td>n/a</td>\n",
                            "      <td>n/a</td>\n",
                            "      <td>n/a</td>\n",
                            "      <td>n/a</td>\n",
                            "      <td>no vision or hearing difficulty</td>\n",
                            "      <td>no</td>\n",
                            "      <td>no</td>\n",
                            "    </tr>\n",
                            "    <tr>\n",
                            "      <th>1</th>\n",
                            "      <td>2017</td>\n",
                            "      <td>1</td>\n",
                            "      <td>1200045</td>\n",
                            "      <td>2.017001e+12</td>\n",
                            "      <td>6</td>\n",
                            "      <td>79</td>\n",
                            "      <td>25</td>\n",
                            "      <td>male householder, no wife present</td>\n",
                            "      <td>2.017012e+12</td>\n",
                            "      <td>1.011189</td>\n",
                            "      <td>...</td>\n",
                            "      <td>0</td>\n",
                            "      <td>not in identifiable area</td>\n",
                            "      <td>n/a</td>\n",
                            "      <td>no cognitive difficulty</td>\n",
                            "      <td>no ambulatory difficulty</td>\n",
                            "      <td>no independent living difficulty</td>\n",
                            "      <td>no</td>\n",
                            "      <td>no vision or hearing difficulty</td>\n",
                            "      <td>no</td>\n",
                            "      <td>no</td>\n",
                            "    </tr>\n",
                            "    <tr>\n",
                            "      <th>2</th>\n",
                            "      <td>2017</td>\n",
                            "      <td>1</td>\n",
                            "      <td>70831</td>\n",
                            "      <td>2.017000e+12</td>\n",
                            "      <td>1 person record</td>\n",
                            "      <td>36</td>\n",
                            "      <td>57</td>\n",
                            "      <td>male householder, living alone</td>\n",
                            "      <td>2.017001e+12</td>\n",
                            "      <td>1.011189</td>\n",
                            "      <td>...</td>\n",
                            "      <td>0</td>\n",
                            "      <td>not in identifiable area</td>\n",
                            "      <td>n/a</td>\n",
                            "      <td>has cognitive difficulty</td>\n",
                            "      <td>no ambulatory difficulty</td>\n",
                            "      <td>no independent living difficulty</td>\n",
                            "      <td>no</td>\n",
                            "      <td>no vision or hearing difficulty</td>\n",
                            "      <td>no</td>\n",
                            "      <td>no</td>\n",
                            "    </tr>\n",
                            "    <tr>\n",
                            "      <th>3</th>\n",
                            "      <td>2017</td>\n",
                            "      <td>1</td>\n",
                            "      <td>557128</td>\n",
                            "      <td>2.017001e+12</td>\n",
                            "      <td>2</td>\n",
                            "      <td>10</td>\n",
                            "      <td>98</td>\n",
                            "      <td>married-couple family household</td>\n",
                            "      <td>2.017006e+12</td>\n",
                            "      <td>1.011189</td>\n",
                            "      <td>...</td>\n",
                            "      <td>0</td>\n",
                            "      <td>not in identifiable area</td>\n",
                            "      <td>n/a</td>\n",
                            "      <td>no cognitive difficulty</td>\n",
                            "      <td>no ambulatory difficulty</td>\n",
                            "      <td>no independent living difficulty</td>\n",
                            "      <td>no</td>\n",
                            "      <td>no vision or hearing difficulty</td>\n",
                            "      <td>no</td>\n",
                            "      <td>no</td>\n",
                            "    </tr>\n",
                            "    <tr>\n",
                            "      <th>4</th>\n",
                            "      <td>2017</td>\n",
                            "      <td>1</td>\n",
                            "      <td>614890</td>\n",
                            "      <td>2.017001e+12</td>\n",
                            "      <td>4</td>\n",
                            "      <td>96</td>\n",
                            "      <td>54</td>\n",
                            "      <td>married-couple family household</td>\n",
                            "      <td>2.017006e+12</td>\n",
                            "      <td>1.011189</td>\n",
                            "      <td>...</td>\n",
                            "      <td>0</td>\n",
                            "      <td>not in identifiable area</td>\n",
                            "      <td>n/a</td>\n",
                            "      <td>n/a</td>\n",
                            "      <td>n/a</td>\n",
                            "      <td>n/a</td>\n",
                            "      <td>n/a</td>\n",
                            "      <td>no vision or hearing difficulty</td>\n",
                            "      <td>no</td>\n",
                            "      <td>no</td>\n",
                            "    </tr>\n",
                            "    <tr>\n",
                            "      <th>...</th>\n",
                            "      <td>...</td>\n",
                            "      <td>...</td>\n",
                            "      <td>...</td>\n",
                            "      <td>...</td>\n",
                            "      <td>...</td>\n",
                            "      <td>...</td>\n",
                            "      <td>...</td>\n",
                            "      <td>...</td>\n",
                            "      <td>...</td>\n",
                            "      <td>...</td>\n",
                            "      <td>...</td>\n",
                            "      <td>...</td>\n",
                            "      <td>...</td>\n",
                            "      <td>...</td>\n",
                            "      <td>...</td>\n",
                            "      <td>...</td>\n",
                            "      <td>...</td>\n",
                            "      <td>...</td>\n",
                            "      <td>...</td>\n",
                            "      <td>...</td>\n",
                            "      <td>...</td>\n",
                            "    </tr>\n",
                            "    <tr>\n",
                            "      <th>318999</th>\n",
                            "      <td>2017</td>\n",
                            "      <td>1</td>\n",
                            "      <td>734396</td>\n",
                            "      <td>2.017001e+12</td>\n",
                            "      <td>4</td>\n",
                            "      <td>78</td>\n",
                            "      <td>100</td>\n",
                            "      <td>married-couple family household</td>\n",
                            "      <td>2.017007e+12</td>\n",
                            "      <td>1.011189</td>\n",
                            "      <td>...</td>\n",
                            "      <td>0</td>\n",
                            "      <td>not in identifiable area</td>\n",
                            "      <td>n/a</td>\n",
                            "      <td>no cognitive difficulty</td>\n",
                            "      <td>no ambulatory difficulty</td>\n",
                            "      <td>no independent living difficulty</td>\n",
                            "      <td>no</td>\n",
                            "      <td>no vision or hearing difficulty</td>\n",
                            "      <td>no</td>\n",
                            "      <td>no</td>\n",
                            "    </tr>\n",
                            "    <tr>\n",
                            "      <th>319000</th>\n",
                            "      <td>2017</td>\n",
                            "      <td>1</td>\n",
                            "      <td>586263</td>\n",
                            "      <td>2.017001e+12</td>\n",
                            "      <td>4</td>\n",
                            "      <td>57</td>\n",
                            "      <td>77</td>\n",
                            "      <td>married-couple family household</td>\n",
                            "      <td>2.017006e+12</td>\n",
                            "      <td>1.011189</td>\n",
                            "      <td>...</td>\n",
                            "      <td>0</td>\n",
                            "      <td>not in identifiable area</td>\n",
                            "      <td>n/a</td>\n",
                            "      <td>n/a</td>\n",
                            "      <td>n/a</td>\n",
                            "      <td>n/a</td>\n",
                            "      <td>n/a</td>\n",
                            "      <td>no vision or hearing difficulty</td>\n",
                            "      <td>no</td>\n",
                            "      <td>no</td>\n",
                            "    </tr>\n",
                            "    <tr>\n",
                            "      <th>319001</th>\n",
                            "      <td>2017</td>\n",
                            "      <td>1</td>\n",
                            "      <td>510444</td>\n",
                            "      <td>2.017001e+12</td>\n",
                            "      <td>2</td>\n",
                            "      <td>43</td>\n",
                            "      <td>152</td>\n",
                            "      <td>female householder, no husband present</td>\n",
                            "      <td>2.017005e+12</td>\n",
                            "      <td>1.011189</td>\n",
                            "      <td>...</td>\n",
                            "      <td>0</td>\n",
                            "      <td>not in identifiable area</td>\n",
                            "      <td>n/a</td>\n",
                            "      <td>has cognitive difficulty</td>\n",
                            "      <td>no ambulatory difficulty</td>\n",
                            "      <td>no independent living difficulty</td>\n",
                            "      <td>no</td>\n",
                            "      <td>no vision or hearing difficulty</td>\n",
                            "      <td>no</td>\n",
                            "      <td>no</td>\n",
                            "    </tr>\n",
                            "    <tr>\n",
                            "      <th>319002</th>\n",
                            "      <td>2017</td>\n",
                            "      <td>1</td>\n",
                            "      <td>1220474</td>\n",
                            "      <td>2.017001e+12</td>\n",
                            "      <td>4</td>\n",
                            "      <td>16</td>\n",
                            "      <td>148</td>\n",
                            "      <td>married-couple family household</td>\n",
                            "      <td>2.017012e+12</td>\n",
                            "      <td>1.011189</td>\n",
                            "      <td>...</td>\n",
                            "      <td>0</td>\n",
                            "      <td>not in identifiable area</td>\n",
                            "      <td>n/a</td>\n",
                            "      <td>no cognitive difficulty</td>\n",
                            "      <td>no ambulatory difficulty</td>\n",
                            "      <td>no independent living difficulty</td>\n",
                            "      <td>no</td>\n",
                            "      <td>no vision or hearing difficulty</td>\n",
                            "      <td>no</td>\n",
                            "      <td>no</td>\n",
                            "    </tr>\n",
                            "    <tr>\n",
                            "      <th>319003</th>\n",
                            "      <td>2017</td>\n",
                            "      <td>1</td>\n",
                            "      <td>219435</td>\n",
                            "      <td>2.017000e+12</td>\n",
                            "      <td>2</td>\n",
                            "      <td>17</td>\n",
                            "      <td>47</td>\n",
                            "      <td>married-couple family household</td>\n",
                            "      <td>2.017002e+12</td>\n",
                            "      <td>1.011189</td>\n",
                            "      <td>...</td>\n",
                            "      <td>0</td>\n",
                            "      <td>not in identifiable area</td>\n",
                            "      <td>n/a</td>\n",
                            "      <td>no cognitive difficulty</td>\n",
                            "      <td>no ambulatory difficulty</td>\n",
                            "      <td>no independent living difficulty</td>\n",
                            "      <td>no</td>\n",
                            "      <td>no vision or hearing difficulty</td>\n",
                            "      <td>no</td>\n",
                            "      <td>no</td>\n",
                            "    </tr>\n",
                            "  </tbody>\n",
                            "</table>\n",
                            "<p>319004 rows × 104 columns</p>\n",
                            "</div>"
                        ],
                        "text/plain": [
                            "        year  datanum   serial      cbserial          numprec subsamp  hhwt  \\\n",
                            "0       2017        1   177686  2.017001e+12                9      64    55   \n",
                            "1       2017        1  1200045  2.017001e+12                6      79    25   \n",
                            "2       2017        1    70831  2.017000e+12  1 person record      36    57   \n",
                            "3       2017        1   557128  2.017001e+12                2      10    98   \n",
                            "4       2017        1   614890  2.017001e+12                4      96    54   \n",
                            "...      ...      ...      ...           ...              ...     ...   ...   \n",
                            "318999  2017        1   734396  2.017001e+12                4      78   100   \n",
                            "319000  2017        1   586263  2.017001e+12                4      57    77   \n",
                            "319001  2017        1   510444  2.017001e+12                2      43   152   \n",
                            "319002  2017        1  1220474  2.017001e+12                4      16   148   \n",
                            "319003  2017        1   219435  2.017000e+12                2      17    47   \n",
                            "\n",
                            "                                        hhtype       cluster    adjust  ...  \\\n",
                            "0       female householder, no husband present  2.017002e+12  1.011189  ...   \n",
                            "1            male householder, no wife present  2.017012e+12  1.011189  ...   \n",
                            "2               male householder, living alone  2.017001e+12  1.011189  ...   \n",
                            "3              married-couple family household  2.017006e+12  1.011189  ...   \n",
                            "4              married-couple family household  2.017006e+12  1.011189  ...   \n",
                            "...                                        ...           ...       ...  ...   \n",
                            "318999         married-couple family household  2.017007e+12  1.011189  ...   \n",
                            "319000         married-couple family household  2.017006e+12  1.011189  ...   \n",
                            "319001  female householder, no husband present  2.017005e+12  1.011189  ...   \n",
                            "319002         married-couple family household  2.017012e+12  1.011189  ...   \n",
                            "319003         married-couple family household  2.017002e+12  1.011189  ...   \n",
                            "\n",
                            "        migcounty1                 migmet131 vetdisab  \\\n",
                            "0                0  not in identifiable area      n/a   \n",
                            "1                0  not in identifiable area      n/a   \n",
                            "2                0  not in identifiable area      n/a   \n",
                            "3                0  not in identifiable area      n/a   \n",
                            "4                0  not in identifiable area      n/a   \n",
                            "...            ...                       ...      ...   \n",
                            "318999           0  not in identifiable area      n/a   \n",
                            "319000           0  not in identifiable area      n/a   \n",
                            "319001           0  not in identifiable area      n/a   \n",
                            "319002           0  not in identifiable area      n/a   \n",
                            "319003           0  not in identifiable area      n/a   \n",
                            "\n",
                            "                         diffrem                  diffphys  \\\n",
                            "0                            n/a                       n/a   \n",
                            "1        no cognitive difficulty  no ambulatory difficulty   \n",
                            "2       has cognitive difficulty  no ambulatory difficulty   \n",
                            "3        no cognitive difficulty  no ambulatory difficulty   \n",
                            "4                            n/a                       n/a   \n",
                            "...                          ...                       ...   \n",
                            "318999   no cognitive difficulty  no ambulatory difficulty   \n",
                            "319000                       n/a                       n/a   \n",
                            "319001  has cognitive difficulty  no ambulatory difficulty   \n",
                            "319002   no cognitive difficulty  no ambulatory difficulty   \n",
                            "319003   no cognitive difficulty  no ambulatory difficulty   \n",
                            "\n",
                            "                                 diffmob diffcare  \\\n",
                            "0                                    n/a      n/a   \n",
                            "1       no independent living difficulty       no   \n",
                            "2       no independent living difficulty       no   \n",
                            "3       no independent living difficulty       no   \n",
                            "4                                    n/a      n/a   \n",
                            "...                                  ...      ...   \n",
                            "318999  no independent living difficulty       no   \n",
                            "319000                               n/a      n/a   \n",
                            "319001  no independent living difficulty       no   \n",
                            "319002  no independent living difficulty       no   \n",
                            "319003  no independent living difficulty       no   \n",
                            "\n",
                            "                               diffsens  diffeye  diffhear  \n",
                            "0       no vision or hearing difficulty       no        no  \n",
                            "1       no vision or hearing difficulty       no        no  \n",
                            "2       no vision or hearing difficulty       no        no  \n",
                            "3       no vision or hearing difficulty       no        no  \n",
                            "4       no vision or hearing difficulty       no        no  \n",
                            "...                                 ...      ...       ...  \n",
                            "318999  no vision or hearing difficulty       no        no  \n",
                            "319000  no vision or hearing difficulty       no        no  \n",
                            "319001  no vision or hearing difficulty       no        no  \n",
                            "319002  no vision or hearing difficulty       no        no  \n",
                            "319003  no vision or hearing difficulty       no        no  \n",
                            "\n",
                            "[319004 rows x 104 columns]"
                        ]
                    },
                    "execution_count": 2,
                    "metadata": {},
                    "output_type": "execute_result"
                }
            ],
            "source": [
                "df = pd.read_stata(\n",
                "    \"https://github.com/nickeubank/MIDS_Data/raw/master/US_AmericanCommunitySurvey/US_ACS_2017_10pct_sample.dta\"\n",
                ")\n",
                "df"
            ]
        },
        {
            "cell_type": "markdown",
            "metadata": {},
            "source": [
                "### Exercise 2\n",
                "\n",
                "For our exercises today, we'll focus on `age`, `sex`, `educ` (education), and `inctot` (total income). Subset your data to those variables, and quickly look at a sample of 10 rows."
            ]
        },
        {
            "cell_type": "code",
            "execution_count": 3,
            "metadata": {},
            "outputs": [
                {
                    "name": "stdout",
                    "output_type": "stream",
                    "text": [
                        "The following below is a random sample of 10 rows\n"
                    ]
                },
                {
                    "data": {
                        "text/html": [
                            "<div>\n",
                            "<style scoped>\n",
                            "    .dataframe tbody tr th:only-of-type {\n",
                            "        vertical-align: middle;\n",
                            "    }\n",
                            "\n",
                            "    .dataframe tbody tr th {\n",
                            "        vertical-align: top;\n",
                            "    }\n",
                            "\n",
                            "    .dataframe thead th {\n",
                            "        text-align: right;\n",
                            "    }\n",
                            "</style>\n",
                            "<table border=\"1\" class=\"dataframe\">\n",
                            "  <thead>\n",
                            "    <tr style=\"text-align: right;\">\n",
                            "      <th></th>\n",
                            "      <th>age</th>\n",
                            "      <th>sex</th>\n",
                            "      <th>educ</th>\n",
                            "      <th>inctot</th>\n",
                            "    </tr>\n",
                            "  </thead>\n",
                            "  <tbody>\n",
                            "    <tr>\n",
                            "      <th>295813</th>\n",
                            "      <td>22</td>\n",
                            "      <td>male</td>\n",
                            "      <td>grade 12</td>\n",
                            "      <td>0</td>\n",
                            "    </tr>\n",
                            "    <tr>\n",
                            "      <th>229521</th>\n",
                            "      <td>33</td>\n",
                            "      <td>female</td>\n",
                            "      <td>2 years of college</td>\n",
                            "      <td>23000</td>\n",
                            "    </tr>\n",
                            "    <tr>\n",
                            "      <th>9794</th>\n",
                            "      <td>79</td>\n",
                            "      <td>female</td>\n",
                            "      <td>grade 12</td>\n",
                            "      <td>21200</td>\n",
                            "    </tr>\n",
                            "    <tr>\n",
                            "      <th>192982</th>\n",
                            "      <td>34</td>\n",
                            "      <td>female</td>\n",
                            "      <td>5+ years of college</td>\n",
                            "      <td>34500</td>\n",
                            "    </tr>\n",
                            "    <tr>\n",
                            "      <th>35769</th>\n",
                            "      <td>35</td>\n",
                            "      <td>female</td>\n",
                            "      <td>grade 12</td>\n",
                            "      <td>15000</td>\n",
                            "    </tr>\n",
                            "    <tr>\n",
                            "      <th>189578</th>\n",
                            "      <td>less than 1 year old</td>\n",
                            "      <td>male</td>\n",
                            "      <td>n/a or no schooling</td>\n",
                            "      <td>9999999</td>\n",
                            "    </tr>\n",
                            "    <tr>\n",
                            "      <th>151529</th>\n",
                            "      <td>56</td>\n",
                            "      <td>female</td>\n",
                            "      <td>grade 12</td>\n",
                            "      <td>45000</td>\n",
                            "    </tr>\n",
                            "    <tr>\n",
                            "      <th>213741</th>\n",
                            "      <td>52</td>\n",
                            "      <td>female</td>\n",
                            "      <td>grade 12</td>\n",
                            "      <td>8000</td>\n",
                            "    </tr>\n",
                            "    <tr>\n",
                            "      <th>209589</th>\n",
                            "      <td>22</td>\n",
                            "      <td>male</td>\n",
                            "      <td>4 years of college</td>\n",
                            "      <td>15000</td>\n",
                            "    </tr>\n",
                            "    <tr>\n",
                            "      <th>231154</th>\n",
                            "      <td>31</td>\n",
                            "      <td>female</td>\n",
                            "      <td>4 years of college</td>\n",
                            "      <td>65000</td>\n",
                            "    </tr>\n",
                            "  </tbody>\n",
                            "</table>\n",
                            "</div>"
                        ],
                        "text/plain": [
                            "                         age     sex                 educ   inctot\n",
                            "295813                    22    male             grade 12        0\n",
                            "229521                    33  female   2 years of college    23000\n",
                            "9794                      79  female             grade 12    21200\n",
                            "192982                    34  female  5+ years of college    34500\n",
                            "35769                     35  female             grade 12    15000\n",
                            "189578  less than 1 year old    male  n/a or no schooling  9999999\n",
                            "151529                    56  female             grade 12    45000\n",
                            "213741                    52  female             grade 12     8000\n",
                            "209589                    22    male   4 years of college    15000\n",
                            "231154                    31  female   4 years of college    65000"
                        ]
                    },
                    "execution_count": 3,
                    "metadata": {},
                    "output_type": "execute_result"
                }
            ],
            "source": [
                "df = df[[\"age\", \"sex\", \"educ\", \"inctot\"]]\n",
                "print(\"The following below is a random sample of 10 rows\")\n",
                "df.sample(10)"
            ]
        },
        {
            "cell_type": "markdown",
            "metadata": {},
            "source": [
                "### Exercise 3\n",
                "\n",
                "As before, all the values of `9999999` have the potential to cause us real problems, so replace all the values of `inctot` that are `9999999` with `np.nan`. "
            ]
        },
        {
            "cell_type": "code",
            "execution_count": 22,
            "metadata": {},
            "outputs": [
                {
                    "name": "stdout",
                    "output_type": "stream",
                    "text": [
                        "The following is the dataframe with all the 9999999 values turned to NaN\n"
                    ]
                },
                {
                    "data": {
                        "text/html": [
                            "<div>\n",
                            "<style scoped>\n",
                            "    .dataframe tbody tr th:only-of-type {\n",
                            "        vertical-align: middle;\n",
                            "    }\n",
                            "\n",
                            "    .dataframe tbody tr th {\n",
                            "        vertical-align: top;\n",
                            "    }\n",
                            "\n",
                            "    .dataframe thead th {\n",
                            "        text-align: right;\n",
                            "    }\n",
                            "</style>\n",
                            "<table border=\"1\" class=\"dataframe\">\n",
                            "  <thead>\n",
                            "    <tr style=\"text-align: right;\">\n",
                            "      <th></th>\n",
                            "      <th>age</th>\n",
                            "      <th>sex</th>\n",
                            "      <th>educ</th>\n",
                            "      <th>inctot</th>\n",
                            "      <th>college_degree</th>\n",
                            "    </tr>\n",
                            "  </thead>\n",
                            "  <tbody>\n",
                            "    <tr>\n",
                            "      <th>0</th>\n",
                            "      <td>4</td>\n",
                            "      <td>female</td>\n",
                            "      <td>nursery school to grade 4</td>\n",
                            "      <td>NaN</td>\n",
                            "      <td>False</td>\n",
                            "    </tr>\n",
                            "    <tr>\n",
                            "      <th>1</th>\n",
                            "      <td>17</td>\n",
                            "      <td>female</td>\n",
                            "      <td>grade 11</td>\n",
                            "      <td>6000.0</td>\n",
                            "      <td>False</td>\n",
                            "    </tr>\n",
                            "    <tr>\n",
                            "      <th>2</th>\n",
                            "      <td>63</td>\n",
                            "      <td>male</td>\n",
                            "      <td>4 years of college</td>\n",
                            "      <td>6150.0</td>\n",
                            "      <td>True</td>\n",
                            "    </tr>\n",
                            "    <tr>\n",
                            "      <th>3</th>\n",
                            "      <td>66</td>\n",
                            "      <td>female</td>\n",
                            "      <td>grade 12</td>\n",
                            "      <td>14000.0</td>\n",
                            "      <td>False</td>\n",
                            "    </tr>\n",
                            "    <tr>\n",
                            "      <th>4</th>\n",
                            "      <td>1</td>\n",
                            "      <td>male</td>\n",
                            "      <td>n/a or no schooling</td>\n",
                            "      <td>NaN</td>\n",
                            "      <td>False</td>\n",
                            "    </tr>\n",
                            "    <tr>\n",
                            "      <th>...</th>\n",
                            "      <td>...</td>\n",
                            "      <td>...</td>\n",
                            "      <td>...</td>\n",
                            "      <td>...</td>\n",
                            "      <td>...</td>\n",
                            "    </tr>\n",
                            "    <tr>\n",
                            "      <th>318999</th>\n",
                            "      <td>33</td>\n",
                            "      <td>female</td>\n",
                            "      <td>4 years of college</td>\n",
                            "      <td>22130.0</td>\n",
                            "      <td>True</td>\n",
                            "    </tr>\n",
                            "    <tr>\n",
                            "      <th>319000</th>\n",
                            "      <td>4</td>\n",
                            "      <td>female</td>\n",
                            "      <td>nursery school to grade 4</td>\n",
                            "      <td>NaN</td>\n",
                            "      <td>False</td>\n",
                            "    </tr>\n",
                            "    <tr>\n",
                            "      <th>319001</th>\n",
                            "      <td>20</td>\n",
                            "      <td>male</td>\n",
                            "      <td>grade 12</td>\n",
                            "      <td>5000.0</td>\n",
                            "      <td>False</td>\n",
                            "    </tr>\n",
                            "    <tr>\n",
                            "      <th>319002</th>\n",
                            "      <td>47</td>\n",
                            "      <td>male</td>\n",
                            "      <td>5+ years of college</td>\n",
                            "      <td>240000.0</td>\n",
                            "      <td>True</td>\n",
                            "    </tr>\n",
                            "    <tr>\n",
                            "      <th>319003</th>\n",
                            "      <td>33</td>\n",
                            "      <td>male</td>\n",
                            "      <td>5+ years of college</td>\n",
                            "      <td>48000.0</td>\n",
                            "      <td>True</td>\n",
                            "    </tr>\n",
                            "  </tbody>\n",
                            "</table>\n",
                            "<p>319004 rows × 5 columns</p>\n",
                            "</div>"
                        ],
                        "text/plain": [
                            "        age     sex                       educ    inctot  college_degree\n",
                            "0         4  female  nursery school to grade 4       NaN           False\n",
                            "1        17  female                   grade 11    6000.0           False\n",
                            "2        63    male         4 years of college    6150.0            True\n",
                            "3        66  female                   grade 12   14000.0           False\n",
                            "4         1    male        n/a or no schooling       NaN           False\n",
                            "...     ...     ...                        ...       ...             ...\n",
                            "318999   33  female         4 years of college   22130.0            True\n",
                            "319000    4  female  nursery school to grade 4       NaN           False\n",
                            "319001   20    male                   grade 12    5000.0           False\n",
                            "319002   47    male        5+ years of college  240000.0            True\n",
                            "319003   33    male        5+ years of college   48000.0            True\n",
                            "\n",
                            "[319004 rows x 5 columns]"
                        ]
                    },
                    "execution_count": 22,
                    "metadata": {},
                    "output_type": "execute_result"
                }
            ],
            "source": [
                "df = df.replace({\"inctot\": 9999999}, np.nan)\n",
                "print(\"The following is the dataframe with all the 9999999 values turned to NaN\")\n",
                "df"
            ]
        },
        {
            "cell_type": "markdown",
            "metadata": {},
            "source": [
                "### Exercise 4\n",
                "\n",
                "Attempt to calculate the average age of people in our data. What do you get? Why are you getting that error?\n",
                "\n",
                "You *should* get an error in trying to answer this question, but **PLEASE LEAVE THE CODE THAT GENERATES THIS ERROR COMMENTED OUT SO YOUR NOTEBOOK WILL RUN IN THE AUTOGRADER**. \n",
                "\n",
                "Then talk about the error in a markdown cell."
            ]
        },
        {
            "cell_type": "code",
            "execution_count": 23,
            "metadata": {},
            "outputs": [],
            "source": [
                "# df[\"age\"].mean()"
            ]
        },
        {
            "cell_type": "markdown",
            "metadata": {},
            "source": [
                "The error I got was the following ```TypeError: 'Categorical' with dtype category does not support reduction mean```\n",
                "\n",
                "The reason is clearly that there is some variable within the age column that is not a numeric number. This means more data exploration is necessary"
            ]
        },
        {
            "cell_type": "markdown",
            "metadata": {},
            "source": [
                "### Exercise 5\n",
                "\n",
                "We want to be able to calculate things using age, so we need it to be a numeric type. Check the current type of `age`, and look at all the values of `age` to figure out why it's categorical and not numeric. You should find two problematic categories. Store the values of these categories in `\"ex5_age_young\"` and `\"ex5_age_old\"` (once you find them, it should be clear which is which)."
            ]
        },
        {
            "cell_type": "code",
            "execution_count": 24,
            "metadata": {},
            "outputs": [
                {
                    "name": "stdout",
                    "output_type": "stream",
                    "text": [
                        "The following is all the values in age, and the total dtype. We can see there are 2 categories that are strings, representing very old and very young\n"
                    ]
                },
                {
                    "data": {
                        "text/plain": [
                            "dtype('int64')"
                        ]
                    },
                    "execution_count": 24,
                    "metadata": {},
                    "output_type": "execute_result"
                }
            ],
            "source": [
                "print(\n",
                "    \"The following is all the values in age, and the total dtype. We can see there are 2 categories that are strings, representing very old and very young\"\n",
                ")\n",
                "df[\"age\"].dtype"
            ]
        },
        {
            "cell_type": "code",
            "execution_count": 25,
            "metadata": {},
            "outputs": [],
            "source": [
                "results[\"ex5_age_young\"] = \"less than 1 year old\"\n",
                "results[\"ex5_age_old\"] = \"90 (90+ in 1980 and 1990)\""
            ]
        },
        {
            "cell_type": "markdown",
            "metadata": {},
            "source": [
                "### Exercise 6\n",
                "\n",
                "In order to convert `age` into a numeric variable, we need to replace those problematic entries with values that `pandas` can later convert into numbers. Pick appropriate substitutions for the existing values and replace the current values. \n",
                "\n",
                "**Hint 1:** Categorical variables act like strings, so you might want to use string methods! \n",
                "\n",
                "**Hint 2:** Remember that characters like parentheses, pluses, asterisks, etc. are special in Python strings, and you have to escape them if you want them to be interpreted literally!\n",
                "\n",
                "**Hint 3:** Because the US Census has been conducted regularly for hundreds of years but exactly how the census has been conducted have occasionally changed, variables are sometimes coded in a way that might be interpreted in different ways for different census years. For example, hypothetically, one might write `90 (90+ in 1980 and 1990)` if the Censuses conducted in 1980 and 1990 used to top-code age at 90 (any values *over* 90 were just coded as 90), but more recent Censuses no longer top-coded age and recorded ages over 90 as the respondents actual age."
            ]
        },
        {
            "cell_type": "code",
            "execution_count": 26,
            "metadata": {},
            "outputs": [
                {
                    "data": {
                        "text/plain": [
                            "dtype('int64')"
                        ]
                    },
                    "execution_count": 26,
                    "metadata": {},
                    "output_type": "execute_result"
                }
            ],
            "source": [
                "df[\"age\"] = df[\"age\"].replace(\"90 (90+ in 1980 and 1990)\", 90)\n",
                "df[\"age\"] = df[\"age\"].replace(\"less than 1 year old\", 0)\n",
                "df[\"age\"].dtype"
            ]
        },
        {
            "cell_type": "markdown",
            "metadata": {},
            "source": [
                "### Exercise 7\n",
                "\n",
                "Now convert age from a categorical to numeric. Calculate the average age amoung this group, and store it in `\"ex7_avg_age\"`."
            ]
        },
        {
            "cell_type": "code",
            "execution_count": 28,
            "metadata": {},
            "outputs": [
                {
                    "name": "stdout",
                    "output_type": "stream",
                    "text": [
                        "The average of the age column is 41.30384885455982\n",
                        "\n",
                        "\n"
                    ]
                }
            ],
            "source": [
                "df[\"age\"] = pd.to_numeric(df[\"age\"])\n",
                "results[\"ex7_avg_age\"] = df[\"age\"].mean()\n",
                "the_mean = results[\"ex7_avg_age\"]\n",
                "\n",
                "print(f\"The average of the age column is {the_mean}\\n\\n\")"
            ]
        },
        {
            "cell_type": "markdown",
            "metadata": {},
            "source": [
                "### Exercise 8\n",
                "\n",
                "Let's now filter out anyone in our data whose age is less than 18. Note that before made `age` a numeric variable, we couldn't do this! Again, calculate the average age and this time store it in `\"ex8_avg_age\"`. \n",
                "\n",
                "Use this sample of people 18 and over for all subsequent exercises."
            ]
        },
        {
            "cell_type": "code",
            "execution_count": 31,
            "metadata": {},
            "outputs": [
                {
                    "name": "stdout",
                    "output_type": "stream",
                    "text": [
                        "The average of the age column, with the age column filtering out those younger than 18, is 49.75769659413359\n",
                        "\n",
                        "\n"
                    ]
                }
            ],
            "source": [
                "small_age = df[df[\"age\"] >= 18]\n",
                "results[\"ex8_avg_age\"] = small_age[\"age\"].mean()\n",
                "the_mean = results[\"ex8_avg_age\"]\n",
                "\n",
                "print(\n",
                "    f\"The average of the age column, with the age column filtering out those younger than 18, is {the_mean}\\n\\n\"\n",
                ")"
            ]
        },
        {
            "cell_type": "markdown",
            "metadata": {},
            "source": [
                "### Exercise 9\n",
                "\n",
                "Create an indicator variable for whether each person has *at least* a college Bachelor's degree called `college_degree`. Use this variable to calculate the number of people in the dataset with a college degree. You may assume that to get a college degree you need to complete at least 4 years of college. Save the result as `\"ex9_num_college\"`."
            ]
        },
        {
            "cell_type": "code",
            "execution_count": 47,
            "metadata": {},
            "outputs": [
                {
                    "name": "stdout",
                    "output_type": "stream",
                    "text": [
                        "The number of people with at least a college degrees is 77013\n",
                        "\n",
                        "\n"
                    ]
                }
            ],
            "source": [
                "small_age[\"educ\"].value_counts()\n",
                "small_age[\"college_degree\"] = small_age[\"educ\"].isin(\n",
                "    [\"4 years of college\", \"5+ years of college\"]\n",
                ")\n",
                "results[\"ex9_num_college\"] = small_age[\"college_degree\"].sum()\n",
                "all_degrees = small_age[\"college_degree\"].sum()\n",
                "\n",
                "print(f\"The number of people with at least a college degrees is {all_degrees}\\n\\n\")"
            ]
        },
        {
            "cell_type": "markdown",
            "metadata": {},
            "source": [
                "### Exercise 10\n",
                "\n",
                "Let's examine how the educational gender gap. Use `pd.crosstab` to create a cross-tabulation of `sex` and `college_degree`. `pd.crosstab` will give you the number of people who have each combination of `sex` and `college_degree` (so in this case, it will give us a 2x2 table with Male and Female as rows, and `college_degree` True and False as columns, or vice versa. "
            ]
        },
        {
            "cell_type": "code",
            "execution_count": 49,
            "metadata": {},
            "outputs": [
                {
                    "data": {
                        "text/plain": [
                            "college_degree\n",
                            "False    176021\n",
                            "True      77013\n",
                            "Name: count, dtype: int64"
                        ]
                    },
                    "execution_count": 49,
                    "metadata": {},
                    "output_type": "execute_result"
                }
            ],
            "source": [
                "small_age[\"college_degree\"].value_counts()"
            ]
        },
        {
            "cell_type": "code",
            "execution_count": 50,
            "metadata": {},
            "outputs": [
                {
                    "name": "stdout",
                    "output_type": "stream",
                    "text": [
                        "The following below is the cross-tabulation between both college degree values and sex\n"
                    ]
                },
                {
                    "data": {
                        "text/html": [
                            "<div>\n",
                            "<style scoped>\n",
                            "    .dataframe tbody tr th:only-of-type {\n",
                            "        vertical-align: middle;\n",
                            "    }\n",
                            "\n",
                            "    .dataframe tbody tr th {\n",
                            "        vertical-align: top;\n",
                            "    }\n",
                            "\n",
                            "    .dataframe thead th {\n",
                            "        text-align: right;\n",
                            "    }\n",
                            "</style>\n",
                            "<table border=\"1\" class=\"dataframe\">\n",
                            "  <thead>\n",
                            "    <tr style=\"text-align: right;\">\n",
                            "      <th>college_degree</th>\n",
                            "      <th>False</th>\n",
                            "      <th>True</th>\n",
                            "    </tr>\n",
                            "    <tr>\n",
                            "      <th>sex</th>\n",
                            "      <th></th>\n",
                            "      <th></th>\n",
                            "    </tr>\n",
                            "  </thead>\n",
                            "  <tbody>\n",
                            "    <tr>\n",
                            "      <th>male</th>\n",
                            "      <td>85821</td>\n",
                            "      <td>36181</td>\n",
                            "    </tr>\n",
                            "    <tr>\n",
                            "      <th>female</th>\n",
                            "      <td>90200</td>\n",
                            "      <td>40832</td>\n",
                            "    </tr>\n",
                            "  </tbody>\n",
                            "</table>\n",
                            "</div>"
                        ],
                        "text/plain": [
                            "college_degree  False  True \n",
                            "sex                         \n",
                            "male            85821  36181\n",
                            "female          90200  40832"
                        ]
                    },
                    "execution_count": 50,
                    "metadata": {},
                    "output_type": "execute_result"
                }
            ],
            "source": [
                "sex_degree = pd.crosstab(small_age[\"sex\"], small_age[\"college_degree\"])\n",
                "print(\n",
                "    \"The following below is the cross-tabulation between both college degree values and sex\"\n",
                ")\n",
                "pd.crosstab(small_age[\"sex\"], small_age[\"college_degree\"])"
            ]
        },
        {
            "cell_type": "markdown",
            "metadata": {},
            "source": [
                "### Exercise 11\n",
                "\n",
                "Counts are kind of hard to interpret. `pd.crosstab` can also normalize values to give percentages. Look at the `pd.crosstab` help file to figure out how to normalize the values in the table. Normalize them so that you get the share of men with and without college degree, and the share of women with and without college degrees.\n",
                "\n",
                "Store the share (between 0 and 1) of men with college degrees in `\"ex11_share_male_w_degrees\"`, and the share of women with degrees in `\"ex11_share_female_w_degrees\"`."
            ]
        },
        {
            "cell_type": "code",
            "execution_count": 55,
            "metadata": {},
            "outputs": [
                {
                    "name": "stderr",
                    "output_type": "stream",
                    "text": [
                        "C:\\Users\\kbagh\\AppData\\Local\\Temp\\ipykernel_9864\\3243536533.py:2: FutureWarning: Series.__getitem__ treating keys as positions is deprecated. In a future version, integer keys will always be treated as labels (consistent with DataFrame behavior). To access a value by position, use `ser.iloc[pos]`\n",
                        "  results[\"ex11_share_male_w_degrees\"] = sex_degree.loc[\"male\"][1]\n",
                        "C:\\Users\\kbagh\\AppData\\Local\\Temp\\ipykernel_9864\\3243536533.py:3: FutureWarning: Series.__getitem__ treating keys as positions is deprecated. In a future version, integer keys will always be treated as labels (consistent with DataFrame behavior). To access a value by position, use `ser.iloc[pos]`\n",
                        "  results[\"ex11_share_female_w_degrees\"] = sex_degree.loc[\"female\"][1]\n"
                    ]
                },
                {
                    "data": {
                        "text/html": [
                            "<div>\n",
                            "<style scoped>\n",
                            "    .dataframe tbody tr th:only-of-type {\n",
                            "        vertical-align: middle;\n",
                            "    }\n",
                            "\n",
                            "    .dataframe tbody tr th {\n",
                            "        vertical-align: top;\n",
                            "    }\n",
                            "\n",
                            "    .dataframe thead th {\n",
                            "        text-align: right;\n",
                            "    }\n",
                            "</style>\n",
                            "<table border=\"1\" class=\"dataframe\">\n",
                            "  <thead>\n",
                            "    <tr style=\"text-align: right;\">\n",
                            "      <th>college_degree</th>\n",
                            "      <th>False</th>\n",
                            "      <th>True</th>\n",
                            "    </tr>\n",
                            "    <tr>\n",
                            "      <th>sex</th>\n",
                            "      <th></th>\n",
                            "      <th></th>\n",
                            "    </tr>\n",
                            "  </thead>\n",
                            "  <tbody>\n",
                            "    <tr>\n",
                            "      <th>male</th>\n",
                            "      <td>0.703439</td>\n",
                            "      <td>0.296561</td>\n",
                            "    </tr>\n",
                            "    <tr>\n",
                            "      <th>female</th>\n",
                            "      <td>0.688381</td>\n",
                            "      <td>0.311619</td>\n",
                            "    </tr>\n",
                            "  </tbody>\n",
                            "</table>\n",
                            "</div>"
                        ],
                        "text/plain": [
                            "college_degree     False     True \n",
                            "sex                               \n",
                            "male            0.703439  0.296561\n",
                            "female          0.688381  0.311619"
                        ]
                    },
                    "execution_count": 55,
                    "metadata": {},
                    "output_type": "execute_result"
                }
            ],
            "source": [
                "sex_degree = pd.crosstab(\n",
                "    small_age[\"sex\"], small_age[\"college_degree\"], normalize=\"index\"\n",
                ")\n",
                "results[\"ex11_share_male_w_degrees\"] = sex_degree.loc[\"male\"][1]\n",
                "results[\"ex11_share_female_w_degrees\"] = sex_degree.loc[\"female\"][1]\n",
                "sex_degree"
            ]
        },
        {
            "cell_type": "markdown",
            "metadata": {},
            "source": [
                "As we see above, the share of males with a degree is 14.29% of the totoal population and females with a degree is 16.13%"
            ]
        },
        {
            "cell_type": "markdown",
            "metadata": {},
            "source": [
                "### Exercise 12\n",
                "\n",
                "Now, let's recreate that table for people who are 40 and over and people under 40. Over time, what does this suggest about the absolute difference in the share of men and women earning college degrees? Has it gotten larger, stayed the same, or gotten smaller? Store your answer (either `\"the absolute difference has increased\"` or `\"the absolute difference has decreased\"`) in `\"ex12_comparing\"`."
            ]
        },
        {
            "cell_type": "code",
            "execution_count": 56,
            "metadata": {},
            "outputs": [
                {
                    "name": "stdout",
                    "output_type": "stream",
                    "text": [
                        "The following is the table but for people who are 40 or older\n"
                    ]
                },
                {
                    "data": {
                        "text/html": [
                            "<div>\n",
                            "<style scoped>\n",
                            "    .dataframe tbody tr th:only-of-type {\n",
                            "        vertical-align: middle;\n",
                            "    }\n",
                            "\n",
                            "    .dataframe tbody tr th {\n",
                            "        vertical-align: top;\n",
                            "    }\n",
                            "\n",
                            "    .dataframe thead th {\n",
                            "        text-align: right;\n",
                            "    }\n",
                            "</style>\n",
                            "<table border=\"1\" class=\"dataframe\">\n",
                            "  <thead>\n",
                            "    <tr style=\"text-align: right;\">\n",
                            "      <th>college_degree</th>\n",
                            "      <th>False</th>\n",
                            "      <th>True</th>\n",
                            "    </tr>\n",
                            "    <tr>\n",
                            "      <th>sex</th>\n",
                            "      <th></th>\n",
                            "      <th></th>\n",
                            "    </tr>\n",
                            "  </thead>\n",
                            "  <tbody>\n",
                            "    <tr>\n",
                            "      <th>male</th>\n",
                            "      <td>0.682123</td>\n",
                            "      <td>0.317877</td>\n",
                            "    </tr>\n",
                            "    <tr>\n",
                            "      <th>female</th>\n",
                            "      <td>0.699144</td>\n",
                            "      <td>0.300856</td>\n",
                            "    </tr>\n",
                            "  </tbody>\n",
                            "</table>\n",
                            "</div>"
                        ],
                        "text/plain": [
                            "college_degree     False     True \n",
                            "sex                               \n",
                            "male            0.682123  0.317877\n",
                            "female          0.699144  0.300856"
                        ]
                    },
                    "execution_count": 56,
                    "metadata": {},
                    "output_type": "execute_result"
                }
            ],
            "source": [
                "old_people = small_age[small_age[\"age\"] >= 40]\n",
                "print(\"The following is the table but for people who are 40 or older\")\n",
                "pd.crosstab(old_people[\"sex\"], old_people[\"college_degree\"], normalize=\"index\")"
            ]
        },
        {
            "cell_type": "code",
            "execution_count": 57,
            "metadata": {},
            "outputs": [
                {
                    "name": "stdout",
                    "output_type": "stream",
                    "text": [
                        "The following is the table but for people who are 40 or younger\n"
                    ]
                },
                {
                    "data": {
                        "text/html": [
                            "<div>\n",
                            "<style scoped>\n",
                            "    .dataframe tbody tr th:only-of-type {\n",
                            "        vertical-align: middle;\n",
                            "    }\n",
                            "\n",
                            "    .dataframe tbody tr th {\n",
                            "        vertical-align: top;\n",
                            "    }\n",
                            "\n",
                            "    .dataframe thead th {\n",
                            "        text-align: right;\n",
                            "    }\n",
                            "</style>\n",
                            "<table border=\"1\" class=\"dataframe\">\n",
                            "  <thead>\n",
                            "    <tr style=\"text-align: right;\">\n",
                            "      <th>college_degree</th>\n",
                            "      <th>False</th>\n",
                            "      <th>True</th>\n",
                            "    </tr>\n",
                            "    <tr>\n",
                            "      <th>sex</th>\n",
                            "      <th></th>\n",
                            "      <th></th>\n",
                            "    </tr>\n",
                            "  </thead>\n",
                            "  <tbody>\n",
                            "    <tr>\n",
                            "      <th>male</th>\n",
                            "      <td>0.743143</td>\n",
                            "      <td>0.256857</td>\n",
                            "    </tr>\n",
                            "    <tr>\n",
                            "      <th>female</th>\n",
                            "      <td>0.665710</td>\n",
                            "      <td>0.334290</td>\n",
                            "    </tr>\n",
                            "  </tbody>\n",
                            "</table>\n",
                            "</div>"
                        ],
                        "text/plain": [
                            "college_degree     False     True \n",
                            "sex                               \n",
                            "male            0.743143  0.256857\n",
                            "female          0.665710  0.334290"
                        ]
                    },
                    "execution_count": 57,
                    "metadata": {},
                    "output_type": "execute_result"
                }
            ],
            "source": [
                "young_people = small_age[small_age[\"age\"] < 40]\n",
                "print(\"The following is the table but for people who are 40 or younger\")\n",
                "pd.crosstab(young_people[\"sex\"], young_people[\"college_degree\"], normalize=\"index\")"
            ]
        },
        {
            "cell_type": "code",
            "execution_count": 58,
            "metadata": {},
            "outputs": [],
            "source": [
                "results[\"ex12_comparing\"] = \"the absolute difference has increased\""
            ]
        },
        {
            "cell_type": "markdown",
            "metadata": {},
            "source": [
                "### Exercise 13\n",
                "\n",
                "In words, what is causing the change noted in Exercise 12 (i.e., looking at the tables above, tell me a story about Men and Women's College attainment)."
            ]
        },
        {
            "cell_type": "markdown",
            "metadata": {},
            "source": [
                "I believe that over time, men and women are both more likely to get a college degree. I believe this because the percentage of both men and women increase relative from 40 years and older and younger. But, overall, women are more likely to get a degree.\n",
                "\n",
                "As well, it seems that when younger, more women get college degrees than men. This could be for a variety of reasons, such as whether men couldn't afford it when younger, had to do something before getting a college degree, or even chose to never pursue one. But, as they grow older, whatever prevented men from getting their degree seems to no longer be an issue, allowing them to pursue their college degree. With an influx of men getting their degree, the playing field of women compared to men with college degrees' evens out."
            ]
        },
        {
            "cell_type": "markdown",
            "metadata": {},
            "source": [
                "## Want More Practice?\n",
                "\n",
                "Calculate the educational racial gap in the United States for White Americans, Black Americans, Hispanic Americans, and other groups. \n",
                "\n",
                "Note that to do these calculations, you'll have to deal with the fact that unlike most Americans, the American Census Bureau treats \"Hispanic\" not as a racial category, but a linguistic one. As a result, the racial category \"White\" in `race` actually includes most Hispanic Americans. For this analysis, we wish to work with the mutually exclusive categories of \"White, non-Hispanic\", \"White, Hispanic\", \"Black (Hispanic or non-Hispanic)\", and a category for everyone else. "
            ]
        }
    ],
    "metadata": {
        "kernelspec": {
            "display_name": "Python 3.10.6 ('base')",
            "language": "python",
            "name": "python3"
        },
        "language_info": {
            "codemirror_mode": {
                "name": "ipython",
                "version": 3
            },
            "file_extension": ".py",
            "mimetype": "text/x-python",
            "name": "python",
            "nbconvert_exporter": "python",
            "pygments_lexer": "ipython3",
            "version": "3.11.5"
        },
        "vscode": {
            "interpreter": {
                "hash": "718fed28bf9f8c7851519acf2fb923cd655120b36de3b67253eeb0428bd33d2d"
            }
        }
    },
    "nbformat": 4,
    "nbformat_minor": 4
}
